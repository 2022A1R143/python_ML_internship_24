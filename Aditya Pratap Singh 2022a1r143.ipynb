{
 "cells": [
  {
   "cell_type": "code",
   "execution_count": 72,
   "id": "47097c3c-1188-4d29-9e31-4d28c29f7959",
   "metadata": {},
   "outputs": [
    {
     "name": "stdout",
     "output_type": "stream",
     "text": [
      "        * \n",
      "      * * \n",
      "    * * * \n",
      "  * * * * \n",
      "* * * * * \n"
     ]
    }
   ],
   "source": [
    "#Q1\n",
    "def draw_triangle_pattern(rows):\n",
    "    for i in range(1, rows + 1):\n",
    "        \n",
    "        for j in range(rows - i):\n",
    "            print(\" \", end=\" \")\n",
    "      \n",
    "        for k in range(i):\n",
    "            print(\"*\", end=\" \")\n",
    "        print()\n",
    "\n",
    "\n",
    "rows = 5\n",
    "draw_triangle_pattern(rows)\n"
   ]
  },
  {
   "cell_type": "code",
   "execution_count": 75,
   "id": "7be8ac33-b8c7-472f-ba88-c7ee9db27c37",
   "metadata": {},
   "outputs": [
    {
     "name": "stdin",
     "output_type": "stream",
     "text": [
      "Enter the first number:  23\n",
      "Enter the second number:  24\n"
     ]
    },
    {
     "name": "stdout",
     "output_type": "stream",
     "text": [
      "The result of 23.0 divided by 24.0 is 0.96\n"
     ]
    }
   ],
   "source": [
    "#Q2\n",
    "def perform_division():\n",
    "    while True:\n",
    "        try:\n",
    "            num1 = float(input(\"Enter the first number: \"))\n",
    "            num2 = float(input(\"Enter the second number: \"))\n",
    "            result = num1 / num2\n",
    "            print(f\"The result of {num1} divided by {num2} is {result:.2f}\")\n",
    "            break\n",
    "        except ZeroDivisionError:\n",
    "            print(\"Error: Division by zero is not allowed. Please try again.\")\n",
    "        except ValueError:\n",
    "            print(\"Error: Invalid input! Please enter numerical values.\")\n",
    "\n",
    "if __name__ == \"__main__\":\n",
    "    perform_division()\n"
   ]
  },
  {
   "cell_type": "code",
   "execution_count": null,
   "id": "748694d6-e073-4397-b3b5-278fb2f6cc22",
   "metadata": {},
   "outputs": [],
   "source": []
  }
 ],
 "metadata": {
  "kernelspec": {
   "display_name": "Python 3 (ipykernel)",
   "language": "python",
   "name": "python3"
  },
  "language_info": {
   "codemirror_mode": {
    "name": "ipython",
    "version": 3
   },
   "file_extension": ".py",
   "mimetype": "text/x-python",
   "name": "python",
   "nbconvert_exporter": "python",
   "pygments_lexer": "ipython3",
   "version": "3.12.4"
  }
 },
 "nbformat": 4,
 "nbformat_minor": 5
}
